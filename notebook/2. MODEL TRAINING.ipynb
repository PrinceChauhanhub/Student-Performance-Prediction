{
  "cells": [
    {
      "cell_type": "markdown",
      "metadata": {
        "id": "MCaKW-Q822Wz"
      },
      "source": [
        "# Model Training\n",
        "\n",
        "Importing all the important libraries and moduels"
      ]
    },
    {
      "cell_type": "code",
      "execution_count": 1,
      "metadata": {
        "id": "7JJthavm5I22"
      },
      "outputs": [],
      "source": [
        "# Basic Import\n",
        "import pandas as pd\n",
        "import numpy as np\n",
        "import seaborn as sns\n",
        "import matplotlib.pyplot as plt\n",
        "\n",
        "# Modelling\n",
        "from sklearn.metrics import mean_squared_error, r2_score, mean_absolute_error # Fixed typo in function names: mean_squared_erroe to mean_squared_error and r2_error to r2_score\n",
        "from sklearn.neighbors import KNeighborsRegressor # Fixed typo: skleran to sklearn and kneighborsRegressor to KNeighborsRegressor\n",
        "from sklearn.tree import DecisionTreeRegressor\n",
        "from sklearn.ensemble import RandomForestRegressor,AdaBoostRegressor\n",
        "from sklearn.svm import SVR\n",
        "from sklearn.linear_model import LinearRegression, Ridge, Lasso\n",
        "from sklearn.model_selection import RandomizedSearchCV\n",
        "from catboost import CatBoostRegressor\n",
        "from xgboost import XGBRegressor\n",
        "import warnings"
      ]
    },
    {
      "cell_type": "markdown",
      "metadata": {
        "id": "QRkIKiV6HgL6"
      },
      "source": [
        "Loading the Data"
      ]
    },
    {
      "cell_type": "code",
      "execution_count": 2,
      "metadata": {
        "id": "m2GCEuCA5RUs"
      },
      "outputs": [],
      "source": [
        "df = pd.read_csv('Data/stud.csv')"
      ]
    },
    {
      "cell_type": "markdown",
      "metadata": {
        "id": "CO-mVuWnHiEy"
      },
      "source": [
        "Show Top 5 recod"
      ]
    },
    {
      "cell_type": "code",
      "execution_count": 3,
      "metadata": {
        "colab": {
          "base_uri": "https://localhost:8080/",
          "height": 206
        },
        "id": "i8xMwi8YHew7",
        "outputId": "4f5ae4e7-ce75-4557-fc10-e3a88f863262"
      },
      "outputs": [
        {
          "data": {
            "text/html": [
              "<div>\n",
              "<style scoped>\n",
              "    .dataframe tbody tr th:only-of-type {\n",
              "        vertical-align: middle;\n",
              "    }\n",
              "\n",
              "    .dataframe tbody tr th {\n",
              "        vertical-align: top;\n",
              "    }\n",
              "\n",
              "    .dataframe thead th {\n",
              "        text-align: right;\n",
              "    }\n",
              "</style>\n",
              "<table border=\"1\" class=\"dataframe\">\n",
              "  <thead>\n",
              "    <tr style=\"text-align: right;\">\n",
              "      <th></th>\n",
              "      <th>gender</th>\n",
              "      <th>race_ethnicity</th>\n",
              "      <th>parental_level_of_education</th>\n",
              "      <th>lunch</th>\n",
              "      <th>test_preparation_course</th>\n",
              "      <th>math_score</th>\n",
              "      <th>reading_score</th>\n",
              "      <th>writing_score</th>\n",
              "    </tr>\n",
              "  </thead>\n",
              "  <tbody>\n",
              "    <tr>\n",
              "      <th>0</th>\n",
              "      <td>female</td>\n",
              "      <td>group B</td>\n",
              "      <td>bachelor's degree</td>\n",
              "      <td>standard</td>\n",
              "      <td>none</td>\n",
              "      <td>72</td>\n",
              "      <td>72</td>\n",
              "      <td>74</td>\n",
              "    </tr>\n",
              "    <tr>\n",
              "      <th>1</th>\n",
              "      <td>female</td>\n",
              "      <td>group C</td>\n",
              "      <td>some college</td>\n",
              "      <td>standard</td>\n",
              "      <td>completed</td>\n",
              "      <td>69</td>\n",
              "      <td>90</td>\n",
              "      <td>88</td>\n",
              "    </tr>\n",
              "    <tr>\n",
              "      <th>2</th>\n",
              "      <td>female</td>\n",
              "      <td>group B</td>\n",
              "      <td>master's degree</td>\n",
              "      <td>standard</td>\n",
              "      <td>none</td>\n",
              "      <td>90</td>\n",
              "      <td>95</td>\n",
              "      <td>93</td>\n",
              "    </tr>\n",
              "    <tr>\n",
              "      <th>3</th>\n",
              "      <td>male</td>\n",
              "      <td>group A</td>\n",
              "      <td>associate's degree</td>\n",
              "      <td>free/reduced</td>\n",
              "      <td>none</td>\n",
              "      <td>47</td>\n",
              "      <td>57</td>\n",
              "      <td>44</td>\n",
              "    </tr>\n",
              "    <tr>\n",
              "      <th>4</th>\n",
              "      <td>male</td>\n",
              "      <td>group C</td>\n",
              "      <td>some college</td>\n",
              "      <td>standard</td>\n",
              "      <td>none</td>\n",
              "      <td>76</td>\n",
              "      <td>78</td>\n",
              "      <td>75</td>\n",
              "    </tr>\n",
              "  </tbody>\n",
              "</table>\n",
              "</div>"
            ],
            "text/plain": [
              "   gender race_ethnicity parental_level_of_education         lunch  \\\n",
              "0  female        group B           bachelor's degree      standard   \n",
              "1  female        group C                some college      standard   \n",
              "2  female        group B             master's degree      standard   \n",
              "3    male        group A          associate's degree  free/reduced   \n",
              "4    male        group C                some college      standard   \n",
              "\n",
              "  test_preparation_course  math_score  reading_score  writing_score  \n",
              "0                    none          72             72             74  \n",
              "1               completed          69             90             88  \n",
              "2                    none          90             95             93  \n",
              "3                    none          47             57             44  \n",
              "4                    none          76             78             75  "
            ]
          },
          "execution_count": 3,
          "metadata": {},
          "output_type": "execute_result"
        }
      ],
      "source": [
        "df.head()"
      ]
    },
    {
      "cell_type": "markdown",
      "metadata": {
        "id": "GHvXe7XWH0jm"
      },
      "source": [
        "Preparing X and Y variables"
      ]
    },
    {
      "cell_type": "code",
      "execution_count": 4,
      "metadata": {
        "id": "2Q9mBJLtH357"
      },
      "outputs": [],
      "source": [
        "X = df.drop(columns=['math_score'],axis = 1)"
      ]
    },
    {
      "cell_type": "code",
      "execution_count": 5,
      "metadata": {
        "id": "ONlVoK98IBNM"
      },
      "outputs": [],
      "source": [
        "y = df['math_score']"
      ]
    },
    {
      "cell_type": "code",
      "execution_count": 6,
      "metadata": {
        "id": "qs6Dx-4mIh1P"
      },
      "outputs": [],
      "source": [
        "# Create Column transformer with 3 type of transformers\n",
        "\n",
        "num_feature = X.select_dtypes(exclude = \"object\").columns\n",
        "cat_feature = X.select_dtypes(include = \"object\").columns\n",
        "\n",
        "from sklearn.preprocessing import OneHotEncoder, StandardScaler\n",
        "from sklearn.compose import ColumnTransformer\n",
        "\n",
        "numeric_transformer = StandardScaler()\n",
        "oh_transformer = OneHotEncoder()\n",
        "\n",
        "preprocessor = ColumnTransformer(\n",
        "    [\n",
        "        (\"OneHotEncoder\", oh_transformer, cat_feature),\n",
        "        (\"StandardScaler\", numeric_transformer, num_feature)\n",
        "    ]\n",
        ")"
      ]
    },
    {
      "cell_type": "code",
      "execution_count": 7,
      "metadata": {
        "id": "q5nRJyIkKQij"
      },
      "outputs": [],
      "source": [
        "X = preprocessor.fit_transform(X)"
      ]
    },
    {
      "cell_type": "code",
      "execution_count": 8,
      "metadata": {
        "colab": {
          "base_uri": "https://localhost:8080/"
        },
        "id": "bwJPlwi2LWqv",
        "outputId": "da4dcdaf-a310-4b79-fcfb-6599a879f2f7"
      },
      "outputs": [
        {
          "data": {
            "text/plain": [
              "(1000, 19)"
            ]
          },
          "execution_count": 8,
          "metadata": {},
          "output_type": "execute_result"
        }
      ],
      "source": [
        "X.shape"
      ]
    },
    {
      "cell_type": "code",
      "execution_count": 9,
      "metadata": {
        "colab": {
          "base_uri": "https://localhost:8080/"
        },
        "id": "uLJDAXTwLgIX",
        "outputId": "95a8641b-5c2f-453f-c635-8daf97d74660"
      },
      "outputs": [
        {
          "data": {
            "text/plain": [
              "((800, 19), (200, 19))"
            ]
          },
          "execution_count": 9,
          "metadata": {},
          "output_type": "execute_result"
        }
      ],
      "source": [
        "from sklearn.model_selection import train_test_split\n",
        "# Seperate dataset into train and test\n",
        "X_train, X_test, y_train, y_test = train_test_split(X, y, test_size = 0.2, random_state = 42)\n",
        "X_train.shape, X_test.shape"
      ]
    },
    {
      "cell_type": "markdown",
      "metadata": {
        "id": "MBGrFrGVOpZ6"
      },
      "source": [
        "Create an evaluation method to give all metics after model training"
      ]
    },
    {
      "cell_type": "code",
      "execution_count": 10,
      "metadata": {
        "id": "GvpvWwfYOzZR"
      },
      "outputs": [],
      "source": [
        "def evaluate_model(true, predicted):\n",
        "  mae = mean_absolute_error(true, predicted)\n",
        "  mse = mean_squared_error(true, predicted)\n",
        "  rmse = np.sqrt(mean_squared_error(true, predicted))\n",
        "  r2_square = r2_score(true, predicted)\n",
        "  return mae, rmse, r2_square"
      ]
    },
    {
      "cell_type": "code",
      "execution_count": 11,
      "metadata": {
        "colab": {
          "base_uri": "https://localhost:8080/"
        },
        "id": "XXXassTdXL40",
        "outputId": "6c3e9c8f-8aad-45bc-c280-1feae0af7b9b"
      },
      "outputs": [
        {
          "name": "stdout",
          "output_type": "stream",
          "text": [
            "Linear Regression\n",
            "Model performance for training set\n",
            "- Root Mean Squared Error: 5.3273\n",
            "- Mean Absolute Error: 4.2787\n",
            "- R2 Score: 0.8741\n",
            "-----------------------------------\n",
            "Model performance for test set\n",
            "- Root Mean Squared Error: 5.4096\n",
            "- Mean Absolute Error: 4.2259\n",
            "- R2 Score: 0.8797\n",
            "-----------------------------------\n",
            "\n",
            "\n",
            "Lasso\n",
            "Model performance for training set\n",
            "- Root Mean Squared Error: 6.5938\n",
            "- Mean Absolute Error: 5.2063\n",
            "- R2 Score: 0.8071\n",
            "-----------------------------------\n",
            "Model performance for test set\n",
            "- Root Mean Squared Error: 6.5197\n",
            "- Mean Absolute Error: 5.1579\n",
            "- R2 Score: 0.8253\n",
            "-----------------------------------\n",
            "\n",
            "\n",
            "Ridge\n",
            "Model performance for training set\n",
            "- Root Mean Squared Error: 5.3233\n",
            "- Mean Absolute Error: 4.2650\n",
            "- R2 Score: 0.8743\n",
            "-----------------------------------\n",
            "Model performance for test set\n",
            "- Root Mean Squared Error: 5.3904\n",
            "- Mean Absolute Error: 4.2111\n",
            "- R2 Score: 0.8806\n",
            "-----------------------------------\n",
            "\n",
            "\n",
            "K-Neighbour Regressor\n",
            "Model performance for training set\n",
            "- Root Mean Squared Error: 5.7122\n",
            "- Mean Absolute Error: 4.5187\n",
            "- R2 Score: 0.8553\n",
            "-----------------------------------\n",
            "Model performance for test set\n",
            "- Root Mean Squared Error: 7.2516\n",
            "- Mean Absolute Error: 5.6160\n",
            "- R2 Score: 0.7839\n",
            "-----------------------------------\n",
            "\n",
            "\n",
            "Decision Tree\n",
            "Model performance for training set\n",
            "- Root Mean Squared Error: 0.2795\n",
            "- Mean Absolute Error: 0.0187\n",
            "- R2 Score: 0.9997\n",
            "-----------------------------------\n",
            "Model performance for test set\n",
            "- Root Mean Squared Error: 7.9517\n",
            "- Mean Absolute Error: 6.3800\n",
            "- R2 Score: 0.7402\n",
            "-----------------------------------\n",
            "\n",
            "\n",
            "Random Forest Regressor\n",
            "Model performance for training set\n",
            "- Root Mean Squared Error: 2.2929\n",
            "- Mean Absolute Error: 1.8249\n",
            "- R2 Score: 0.9767\n",
            "-----------------------------------\n",
            "Model performance for test set\n",
            "- Root Mean Squared Error: 6.0127\n",
            "- Mean Absolute Error: 4.6558\n",
            "- R2 Score: 0.8514\n",
            "-----------------------------------\n",
            "\n",
            "\n",
            "XGBRegressor\n",
            "Model performance for training set\n",
            "- Root Mean Squared Error: 1.0073\n",
            "- Mean Absolute Error: 0.6875\n",
            "- R2 Score: 0.9955\n",
            "-----------------------------------\n",
            "Model performance for test set\n",
            "- Root Mean Squared Error: 6.4733\n",
            "- Mean Absolute Error: 5.0577\n",
            "- R2 Score: 0.8278\n",
            "-----------------------------------\n",
            "\n",
            "\n",
            "CatBoosting Regressor\n",
            "Model performance for training set\n",
            "- Root Mean Squared Error: 3.0427\n",
            "- Mean Absolute Error: 2.4054\n",
            "- R2 Score: 0.9589\n",
            "-----------------------------------\n",
            "Model performance for test set\n",
            "- Root Mean Squared Error: 6.0086\n",
            "- Mean Absolute Error: 4.6125\n",
            "- R2 Score: 0.8516\n",
            "-----------------------------------\n",
            "\n",
            "\n",
            "AdaBoost Regressor\n",
            "Model performance for training set\n",
            "- Root Mean Squared Error: 5.8219\n",
            "- Mean Absolute Error: 4.7481\n",
            "- R2 Score: 0.8497\n",
            "-----------------------------------\n",
            "Model performance for test set\n",
            "- Root Mean Squared Error: 5.8583\n",
            "- Mean Absolute Error: 4.5538\n",
            "- R2 Score: 0.8590\n",
            "-----------------------------------\n",
            "\n",
            "\n"
          ]
        }
      ],
      "source": [
        "models = {\n",
        "    \"Linear Regression\" : LinearRegression(),\n",
        "    \"Lasso\" : Lasso(),\n",
        "    \"Ridge\" : Ridge(),\n",
        "    \"K-Neighbour Regressor\" : KNeighborsRegressor(),\n",
        "    \"Decision Tree\" : DecisionTreeRegressor(),\n",
        "    \"Random Forest Regressor\": RandomForestRegressor(),\n",
        "    \"XGBRegressor\" : XGBRegressor(),\n",
        "    \"CatBoosting Regressor\" : CatBoostRegressor(verbose=False),\n",
        "    \"AdaBoost Regressor\" : AdaBoostRegressor()\n",
        "}\n",
        "\n",
        "model_list = []\n",
        "r2_list = []\n",
        "\n",
        "for i in range(len(list(models))):\n",
        "  model = list(models.values())[i]\n",
        "  model.fit(X_train, y_train)\n",
        "\n",
        "  y_train_pred = model.predict(X_train)\n",
        "  y_test_pred = model.predict(X_test)\n",
        "\n",
        "  model_train_mae, model_train_rmse, model_train_r2 = evaluate_model(y_train, y_train_pred)\n",
        "\n",
        "  model_test_mae, model_test_rmse, model_test_r2 = evaluate_model(y_test, y_test_pred)\n",
        "\n",
        "  print(list(models.keys())[i])\n",
        "  model_list.append((list(models.keys()))[i])\n",
        "\n",
        "  print(\"Model performance for training set\")\n",
        "  print(\"- Root Mean Squared Error: {:.4f}\".format(model_train_rmse))\n",
        "  print(\"- Mean Absolute Error: {:.4f}\".format(model_train_mae))\n",
        "  print(\"- R2 Score: {:.4f}\".format(model_train_r2))\n",
        "  print(\"-\" * 35)\n",
        "\n",
        "  print(\"Model performance for test set\")\n",
        "  print(\"- Root Mean Squared Error: {:.4f}\".format(model_test_rmse))\n",
        "  print(\"- Mean Absolute Error: {:.4f}\".format(model_test_mae))\n",
        "  print(\"- R2 Score: {:.4f}\".format(model_test_r2))\n",
        "  print(\"-\" * 35)\n",
        "  r2_list.append(model_test_r2)\n",
        "  print('\\n')"
      ]
    },
    {
      "cell_type": "code",
      "execution_count": 13,
      "metadata": {
        "colab": {
          "base_uri": "https://localhost:8080/",
          "height": 332
        },
        "id": "Z1jtYbIhlVzn",
        "outputId": "0fe06e6b-8b85-4013-a51e-4ecdd0b8d73d"
      },
      "outputs": [
        {
          "data": {
            "text/html": [
              "<div>\n",
              "<style scoped>\n",
              "    .dataframe tbody tr th:only-of-type {\n",
              "        vertical-align: middle;\n",
              "    }\n",
              "\n",
              "    .dataframe tbody tr th {\n",
              "        vertical-align: top;\n",
              "    }\n",
              "\n",
              "    .dataframe thead th {\n",
              "        text-align: right;\n",
              "    }\n",
              "</style>\n",
              "<table border=\"1\" class=\"dataframe\">\n",
              "  <thead>\n",
              "    <tr style=\"text-align: right;\">\n",
              "      <th></th>\n",
              "      <th>Model name</th>\n",
              "      <th>R2 Score</th>\n",
              "    </tr>\n",
              "  </thead>\n",
              "  <tbody>\n",
              "    <tr>\n",
              "      <th>2</th>\n",
              "      <td>Ridge</td>\n",
              "      <td>0.880593</td>\n",
              "    </tr>\n",
              "    <tr>\n",
              "      <th>0</th>\n",
              "      <td>Linear Regression</td>\n",
              "      <td>0.879740</td>\n",
              "    </tr>\n",
              "    <tr>\n",
              "      <th>8</th>\n",
              "      <td>AdaBoost Regressor</td>\n",
              "      <td>0.858963</td>\n",
              "    </tr>\n",
              "    <tr>\n",
              "      <th>7</th>\n",
              "      <td>CatBoosting Regressor</td>\n",
              "      <td>0.851632</td>\n",
              "    </tr>\n",
              "    <tr>\n",
              "      <th>5</th>\n",
              "      <td>Random Forest Regressor</td>\n",
              "      <td>0.851433</td>\n",
              "    </tr>\n",
              "    <tr>\n",
              "      <th>6</th>\n",
              "      <td>XGBRegressor</td>\n",
              "      <td>0.827797</td>\n",
              "    </tr>\n",
              "    <tr>\n",
              "      <th>1</th>\n",
              "      <td>Lasso</td>\n",
              "      <td>0.825320</td>\n",
              "    </tr>\n",
              "    <tr>\n",
              "      <th>3</th>\n",
              "      <td>K-Neighbour Regressor</td>\n",
              "      <td>0.783898</td>\n",
              "    </tr>\n",
              "    <tr>\n",
              "      <th>4</th>\n",
              "      <td>Decision Tree</td>\n",
              "      <td>0.740156</td>\n",
              "    </tr>\n",
              "  </tbody>\n",
              "</table>\n",
              "</div>"
            ],
            "text/plain": [
              "                Model name  R2 Score\n",
              "2                    Ridge  0.880593\n",
              "0        Linear Regression  0.879740\n",
              "8       AdaBoost Regressor  0.858963\n",
              "7    CatBoosting Regressor  0.851632\n",
              "5  Random Forest Regressor  0.851433\n",
              "6             XGBRegressor  0.827797\n",
              "1                    Lasso  0.825320\n",
              "3    K-Neighbour Regressor  0.783898\n",
              "4            Decision Tree  0.740156"
            ]
          },
          "execution_count": 13,
          "metadata": {},
          "output_type": "execute_result"
        }
      ],
      "source": [
        "pd.DataFrame(list(zip(model_list, r2_list)),columns = ['Model name','R2 Score']).sort_values(by=[\"R2 Score\"],ascending = False)"
      ]
    },
    {
      "cell_type": "markdown",
      "metadata": {
        "id": "MNTNnTuVnoh1"
      },
      "source": [
        "Linear Regression"
      ]
    },
    {
      "cell_type": "code",
      "execution_count": 14,
      "metadata": {
        "colab": {
          "base_uri": "https://localhost:8080/"
        },
        "id": "mCXIsoNInqQm",
        "outputId": "a32f8b38-930d-491a-fe15-b2853168174a"
      },
      "outputs": [
        {
          "name": "stdout",
          "output_type": "stream",
          "text": [
            "Accuracy of the model is 87.97\n"
          ]
        }
      ],
      "source": [
        "lin_model = LinearRegression(fit_intercept = True)\n",
        "lin_model = lin_model.fit(X_train, y_train)\n",
        "y_pred = lin_model.predict(X_test)\n",
        "score = r2_score(y_test,y_pred) * 100\n",
        "print(\"Accuracy of the model is %.2f\" %score)"
      ]
    },
    {
      "cell_type": "markdown",
      "metadata": {
        "id": "fKl_HMU6oPtG"
      },
      "source": [
        "Plot y_pred and y_test"
      ]
    },
    {
      "cell_type": "code",
      "execution_count": 15,
      "metadata": {
        "colab": {
          "base_uri": "https://localhost:8080/",
          "height": 466
        },
        "id": "LfplyBOfoM_A",
        "outputId": "1951dc07-cbcb-4e6f-e2a5-bcf578208de4"
      },
      "outputs": [
        {
          "data": {
            "text/plain": [
              "Text(0, 0.5, 'predicted')"
            ]
          },
          "execution_count": 15,
          "metadata": {},
          "output_type": "execute_result"
        },
        {
          "data": {
            "image/png": "[encoded data removed]",
            "text/plain": [
              "<Figure size 640x480 with 1 Axes>"
            ]
          },
          "metadata": {},
          "output_type": "display_data"
        }
      ],
      "source": [
        "plt.scatter(y_test, y_pred)\n",
        "plt.xlabel('actual')\n",
        "plt.ylabel('predicted')"
      ]
    },
    {
      "cell_type": "code",
      "execution_count": 16,
      "metadata": {
        "colab": {
          "base_uri": "https://localhost:8080/",
          "height": 469
        },
        "id": "pN12sdsfokcV",
        "outputId": "4144e8dc-a35c-445e-f65f-d20b37f50f9e"
      },
      "outputs": [
        {
          "data": {
            "text/plain": [
              "<Axes: xlabel='math_score'>"
            ]
          },
          "execution_count": 16,
          "metadata": {},
          "output_type": "execute_result"
        },
        {
          "data": {
            "image/png": "[encoded data removed]",
            "text/plain": [
              "<Figure size 640x480 with 1 Axes>"
            ]
          },
          "metadata": {},
          "output_type": "display_data"
        }
      ],
      "source": [
        "sns.regplot(x=y_test, y=y_pred,ci=None, color='red')"
      ]
    },
    {
      "cell_type": "markdown",
      "metadata": {
        "id": "betdNA9Bo6su"
      },
      "source": [
        "Differnece between Actual and Predicted values"
      ]
    },
    {
      "cell_type": "code",
      "execution_count": 17,
      "metadata": {
        "colab": {
          "base_uri": "https://localhost:8080/",
          "height": 424
        },
        "id": "dq6zsjuto3fY",
        "outputId": "61f7f845-29b1-4c12-b119-a908ba5b29ac"
      },
      "outputs": [
        {
          "data": {
            "text/html": [
              "<div>\n",
              "<style scoped>\n",
              "    .dataframe tbody tr th:only-of-type {\n",
              "        vertical-align: middle;\n",
              "    }\n",
              "\n",
              "    .dataframe tbody tr th {\n",
              "        vertical-align: top;\n",
              "    }\n",
              "\n",
              "    .dataframe thead th {\n",
              "        text-align: right;\n",
              "    }\n",
              "</style>\n",
              "<table border=\"1\" class=\"dataframe\">\n",
              "  <thead>\n",
              "    <tr style=\"text-align: right;\">\n",
              "      <th></th>\n",
              "      <th>Actual value</th>\n",
              "      <th>predicted value</th>\n",
              "      <th>differnece</th>\n",
              "    </tr>\n",
              "  </thead>\n",
              "  <tbody>\n",
              "    <tr>\n",
              "      <th>521</th>\n",
              "      <td>91</td>\n",
              "      <td>76.703125</td>\n",
              "      <td>14.296875</td>\n",
              "    </tr>\n",
              "    <tr>\n",
              "      <th>737</th>\n",
              "      <td>53</td>\n",
              "      <td>58.578125</td>\n",
              "      <td>-5.578125</td>\n",
              "    </tr>\n",
              "    <tr>\n",
              "      <th>740</th>\n",
              "      <td>80</td>\n",
              "      <td>76.828125</td>\n",
              "      <td>3.171875</td>\n",
              "    </tr>\n",
              "    <tr>\n",
              "      <th>660</th>\n",
              "      <td>74</td>\n",
              "      <td>76.734375</td>\n",
              "      <td>-2.734375</td>\n",
              "    </tr>\n",
              "    <tr>\n",
              "      <th>411</th>\n",
              "      <td>84</td>\n",
              "      <td>87.484375</td>\n",
              "      <td>-3.484375</td>\n",
              "    </tr>\n",
              "    <tr>\n",
              "      <th>...</th>\n",
              "      <td>...</td>\n",
              "      <td>...</td>\n",
              "      <td>...</td>\n",
              "    </tr>\n",
              "    <tr>\n",
              "      <th>408</th>\n",
              "      <td>52</td>\n",
              "      <td>43.125000</td>\n",
              "      <td>8.875000</td>\n",
              "    </tr>\n",
              "    <tr>\n",
              "      <th>332</th>\n",
              "      <td>62</td>\n",
              "      <td>62.109375</td>\n",
              "      <td>-0.109375</td>\n",
              "    </tr>\n",
              "    <tr>\n",
              "      <th>208</th>\n",
              "      <td>74</td>\n",
              "      <td>67.562500</td>\n",
              "      <td>6.437500</td>\n",
              "    </tr>\n",
              "    <tr>\n",
              "      <th>613</th>\n",
              "      <td>65</td>\n",
              "      <td>67.328125</td>\n",
              "      <td>-2.328125</td>\n",
              "    </tr>\n",
              "    <tr>\n",
              "      <th>78</th>\n",
              "      <td>61</td>\n",
              "      <td>62.312500</td>\n",
              "      <td>-1.312500</td>\n",
              "    </tr>\n",
              "  </tbody>\n",
              "</table>\n",
              "<p>200 rows × 3 columns</p>\n",
              "</div>"
            ],
            "text/plain": [
              "     Actual value  predicted value  differnece\n",
              "521            91        76.703125   14.296875\n",
              "737            53        58.578125   -5.578125\n",
              "740            80        76.828125    3.171875\n",
              "660            74        76.734375   -2.734375\n",
              "411            84        87.484375   -3.484375\n",
              "..            ...              ...         ...\n",
              "408            52        43.125000    8.875000\n",
              "332            62        62.109375   -0.109375\n",
              "208            74        67.562500    6.437500\n",
              "613            65        67.328125   -2.328125\n",
              "78             61        62.312500   -1.312500\n",
              "\n",
              "[200 rows x 3 columns]"
            ]
          },
          "execution_count": 17,
          "metadata": {},
          "output_type": "execute_result"
        }
      ],
      "source": [
        "pred_df = pd.DataFrame({'Actual value':y_test,'predicted value':y_pred,'differnece':y_test - y_pred})\n",
        "pred_df"
      ]
    }
  ],
  "metadata": {
    "colab": {
      "provenance": []
    },
    "kernelspec": {
      "display_name": "venv",
      "language": "python",
      "name": "python3"
    },
    "language_info": {
      "codemirror_mode": {
        "name": "ipython",
        "version": 3
      },
      "file_extension": ".py",
      "mimetype": "text/x-python",
      "name": "python",
      "nbconvert_exporter": "python",
      "pygments_lexer": "ipython3",
      "version": "3.8.0"
    }
  },
  "nbformat": 4,
  "nbformat_minor": 0
}
